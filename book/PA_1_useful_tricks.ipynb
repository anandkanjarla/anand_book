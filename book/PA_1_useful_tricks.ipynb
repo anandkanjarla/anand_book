{
 "cells": [
  {
   "cell_type": "markdown",
   "id": "d14e9d93",
   "metadata": {},
   "source": [
    "# PA 1: A Few Useful Tricks\n",
    "\n",
    "<h1 style=\"position: absolute; display: flex; flex-grow: 0; flex-shrink: 0; flex-direction: row-reverse; top: 60px;right: 30px; margin: 0; border: 0\">\n",
    "    <style>\n",
    "        .markdown {width:100%; position: relative}\n",
    "        article { position: relative }\n",
    "    </style>\n",
    "    <img src=\"https://gitlab.tudelft.nl/mude/public/-/raw/main/tu-logo/TU_P1_full-color.png\" style=\"width:100px; height: auto; margin: 0\" />\n",
    "    <img src=\"https://gitlab.tudelft.nl/mude/public/-/raw/main/mude-logo/MUDE_Logo-small.png\" style=\"width:100px; height: auto; margin: 0\" />\n",
    "</h1>\n",
    "<h2 style=\"height: 10px\">\n",
    "</h2>\n",
    "\n",
    "*[MUDE in Madras](https://tudelft-mude.github.io/workshop-iitm/): Week 1. Due by November 27, 2024.*"
   ]
  },
  {
   "cell_type": "markdown",
   "id": "f5a4caf7",
   "metadata": {},
   "source": [
    "The purpose of this notebook is to introduce a few useful Python and Markdown topics:\n",
    "\n",
    "1. assert statements\n",
    "2. list comprehension\n",
    "3. plt.bar()\n",
    "4. including a figure in a Markdown document"
   ]
  },
  {
   "cell_type": "markdown",
   "id": "a0330b70",
   "metadata": {},
   "source": [
    "## Topic 1: Assert Statements\n",
    "\n",
    "Assert statements are like small little \"fact-checkers\" that you can insert into your code to make sure it is doing what you think it should do. For example, if a matrix should be 4x6 you can use an assert statement to check this; if the matrix is not the right size, and error will occur. Although your first thought may be \"why would I want to make my code break with an error?!?!\" it turns out this is a very useful debugging and testing tool (something we will cover in a later PA as well). The reason it is useful is that it causes your code to break for a _very specific_ reason, so that you can identify problems and fix them efficiently and confidently. Sounds useful, right?! Luckily assert statements are also quite simple:\n",
    "\n",
    "There are two cases of this statement that we will use:\n",
    "\n",
    "Case 1:\n",
    "```\n",
    "assert <logical_argument>\n",
    "```\n",
    "\n",
    "Case 2:\n",
    "```\n",
    "assert <logical_argument>, 'my error message'\n",
    "```\n",
    "\n",
    "The best way to illustrate the use of this tool is by example. But first, some important information about the `<logical_argument>`.\n",
    "\n",
    "### Background Information: Logical Statements\n",
    "\n",
    "Another key aspect for using this tool effectively is to be aware of what a **logical statement** is and how they can be specified in Python.\n",
    "\n",
    "A **logical statement** is simply a statement that can be evaluated as **true or false**. This is sometimes referred to as a **binary**, or, in computing in particular, a **Boolean**. Here are some examples of logical statements, formulated as questions, that have a binary/Boolean results:\n",
    "- Is it raining?\n",
    "- Is my computer on?\n",
    "- Were you in class yesterday?\n",
    "\n",
    "Here are some examples of questions that cannot be evaluated as a logical statement:\n",
    "- How long will it rain for?\n",
    "- When will my computer battery reach 0%?\n",
    "- How many lectures have you skipped this week?\n",
    "\n",
    "\n",
    "\n",
    "Each of these examples \n",
    "\n",
    "Python expression that checks whether or not something is \n",
    "\n",
    "\n",
    "| Name of Logical Statement | Python Syntax |\n",
    "| :----: | :----: |\n",
    "| Equals | `a == b` |\n",
    "| Not Equals | `a != b` |\n",
    "| Less than | `a < b` |\n",
    "| Less than or equal to | `a <= b` |\n",
    "| Greater than | `a > b` |\n",
    "| Greater than or equal to | `a >= b` |\n"
   ]
  },
  {
   "cell_type": "markdown",
   "id": "d2995706",
   "metadata": {},
   "source": [
    "<div style=\"background-color:#AABAB2; color: black; width:95%; vertical-align: middle; padding:15px; margin: 10px; border-radius: 10px\">\n",
    "<p>\n",
    "<b>Task 1.1:</b>   \n",
    "Execute the cell below and observe the error. Note that it very specifically is an <code>AssertionError</code>.\n",
    "\n",
    "See if you can fix the code to prevent the error from occurring.\n",
    "</p>\n",
    "</div>"
   ]
  },
  {
   "cell_type": "code",
   "execution_count": 2,
   "id": "646545ae",
   "metadata": {},
   "outputs": [],
   "source": [
    "x = 0\n",
    "assert x != 1"
   ]
  },
  {
   "cell_type": "markdown",
   "id": "57973878",
   "metadata": {},
   "source": [
    "<div style=\"background-color:#AABAB2; color: black; width:95%; vertical-align: middle; padding:15px; margin: 10px; border-radius: 10px\">\n",
    "<p>\n",
    "<b>Task 1.2:</b>   \n",
    "Now try fixing the cell below by 1) adding your own error message (see Case 2 above), and 2) forcing the assert statement to fail. Confirm that you can see error message in the error report.\n",
    "</p>\n",
    "</div>"
   ]
  },
  {
   "cell_type": "code",
   "execution_count": 4,
   "id": "3c275192",
   "metadata": {},
   "outputs": [],
   "source": [
    "y = 0\n",
    "assert y != 1, 'WRONG STATEMENT'"
   ]
  },
  {
   "cell_type": "markdown",
   "id": "30ca5166",
   "metadata": {},
   "source": [
    "<div style=\"background-color:#AABAB2; color: black; width:95%; vertical-align: middle; padding:15px; margin: 10px; border-radius: 10px\">\n",
    "<p>\n",
    "<b>Task 1.3:</b>   \n",
    "Explore assert statements by writing your own. Experiment with different data types (e.g., strings, floats, arrays, lists) and use different logical statements from the list above.\n",
    "</p>\n",
    "</div>"
   ]
  },
  {
   "cell_type": "code",
   "execution_count": null,
   "id": "27fa2738",
   "metadata": {},
   "outputs": [
    {
     "ename": "AssertionError",
     "evalue": "LENGTH OF THE ARRAAY IS NOT INCORRECT",
     "output_type": "error",
     "traceback": [
      "\u001b[0;31m---------------------------------------------------------------------------\u001b[0m",
      "\u001b[0;31mAssertionError\u001b[0m                            Traceback (most recent call last)",
      "Cell \u001b[0;32mIn[42], line 7\u001b[0m\n\u001b[1;32m      5\u001b[0m IITS \u001b[38;5;241m=\u001b[39m [\u001b[38;5;124m\"\u001b[39m\u001b[38;5;124mMADRAS\u001b[39m\u001b[38;5;124m\"\u001b[39m, \u001b[38;5;124m\"\u001b[39m\u001b[38;5;124mBOMBAY\u001b[39m\u001b[38;5;124m\"\u001b[39m, \u001b[38;5;124m\"\u001b[39m\u001b[38;5;124mDELHI\u001b[39m\u001b[38;5;124m\"\u001b[39m]\n\u001b[1;32m      6\u001b[0m \u001b[38;5;28;01massert\u001b[39;00m IITS[\u001b[38;5;241m0\u001b[39m] \u001b[38;5;241m==\u001b[39m \u001b[38;5;124m\"\u001b[39m\u001b[38;5;124mMADRAS\u001b[39m\u001b[38;5;124m\"\u001b[39m, \u001b[38;5;124m'\u001b[39m\u001b[38;5;124mICORRECT STATEMENT\u001b[39m\u001b[38;5;124m'\u001b[39m\n\u001b[0;32m----> 7\u001b[0m \u001b[38;5;28;01massert\u001b[39;00m \u001b[38;5;28mlen\u001b[39m(IITS) \u001b[38;5;241m==\u001b[39m \u001b[38;5;241m4\u001b[39m , \u001b[38;5;124m'\u001b[39m\u001b[38;5;124mLENGTH OF THE ARRAAY IS NOT INCORRECT\u001b[39m\u001b[38;5;124m'\u001b[39m\n",
      "\u001b[0;31mAssertionError\u001b[0m: LENGTH OF THE ARRAAY IS NOT INCORRECT"
     ]
    }
   ],
   "source": [
    "name = \"Anand\"\n",
    "assert name == 'Anand' , 'STRING CORRECT STATEMENT'\n",
    "y = 3.14\n",
    "assert y != 3.145, 'FLOAT INCORRECT STATEMENT'\n",
    "IITS = [\"MADRAS\", \"BOMBAY\", \"DELHI\"]\n",
    "assert IITS[0] == \"MADRAS\", 'ICORRECT STATEMENT'\n",
    "assert len(IITS) == 3 , 'LENGTH OF THE ARRAAY IS NOT INCORRECT'"
   ]
  },
  {
   "cell_type": "markdown",
   "id": "56a7f3a3",
   "metadata": {},
   "source": [
    "### Summary of Asserts\n",
    "\n",
    "You are now an expert on `assert` statements. Remember these key points:\n",
    "\n",
    "- an assert statement answers a true/false question; it will will cause an error if false and do nothing if true\n",
    "- the syntax is `assert <logical_statement>`\n",
    "- you can easily customize the error message with the syntax `assert <logical_argument>, 'my error message'`\n",
    "- the `<logical_statement>` must be a Boolean result"
   ]
  },
  {
   "cell_type": "markdown",
   "id": "db9ff6b8",
   "metadata": {},
   "source": [
    "## Part 2: List Comprehension\n",
    "\n",
    "List and dictionary *comprehensions* are elegant constructs in Python that allow you to manipulate Python objects in a very compact and efficient way. You can think of them as writing a `for` loop in a single line. Here is the syntax:\n",
    "\n",
    "```\n",
    "[<DO_SOMETHING> for <ITEM> in <ITERABLE>]\n",
    "```\n",
    "\n",
    "Note the following key elements:\n",
    "- the list comprehension is enclosed in list brackets: `[ ... ]`\n",
    "- `<DO_SOMETHING>` is any Python expression (for example, `print()` or `x**2`) \n",
    "- `<ITEM>` is generally a (temporary) variable that is used in the expression `<DO_SOMETHING>` and represents all of the \"items\" in `<ITERABLE>`\n",
    "- `<ITERABLE>` is an _iterable_ object. Don't worry about what this is, exactly (we will study it more later).\n",
    "\n",
    "For our purposes, it is enough to consider the following _iterables_:\n",
    "- lists (e.g., `[1, 2, 3]`)\n",
    "- ndarrays (Numpy)\n",
    "- `range()`\n",
    "- dictionaries\n",
    "\n",
    "As with assert statements, the best way to illustrate this is by example."
   ]
  },
  {
   "cell_type": "markdown",
   "id": "e759e651",
   "metadata": {},
   "source": [
    "<div style=\"background-color:#AABAB2; color: black; width:95%; vertical-align: middle; padding:15px; margin: 10px; border-radius: 10px\">\n",
    "<p>\n",
    "<b>Task 2.1:</b>   \n",
    "Read the cell below then execute it to see an example of a \"normal\" for loop that creates a list of squares from 0 to 9.\n",
    "</p>\n",
    "</div>"
   ]
  },
  {
   "cell_type": "code",
   "execution_count": 12,
   "id": "f50a040b",
   "metadata": {},
   "outputs": [
    {
     "name": "stdout",
     "output_type": "stream",
     "text": [
      "[0, 1, 4, 9, 16, 25, 36, 49, 64, 81]\n"
     ]
    }
   ],
   "source": [
    "squares = []\n",
    "for i in range(10):\n",
    "    squares.append(i**2)\n",
    "\n",
    "print(squares)"
   ]
  },
  {
   "cell_type": "markdown",
   "id": "2f53396f",
   "metadata": {},
   "source": [
    "<div style=\"background-color:#AABAB2; color: black; width:95%; vertical-align: middle; padding:15px; margin: 10px; border-radius: 10px\">\n",
    "<p>\n",
    "<b>Task 2.2:</b>   \n",
    "Read the cell below then execute it to see an example of a list comprehension that does the same thing. It's much more compact, right?!\n",
    "</p>\n",
    "</div>"
   ]
  },
  {
   "cell_type": "code",
   "execution_count": 13,
   "id": "da714b14",
   "metadata": {},
   "outputs": [
    {
     "name": "stdout",
     "output_type": "stream",
     "text": [
      "[0, 1, 4, 9, 16, 25, 36, 49, 64, 81]\n"
     ]
    }
   ],
   "source": [
    "squares = [i ** 2 for i in range(10)]\n",
    "\n",
    "print(squares)"
   ]
  },
  {
   "cell_type": "markdown",
   "id": "344df335",
   "metadata": {},
   "source": [
    "<div style=\"background-color:#AABAB2; color: black; width:95%; vertical-align: middle; padding:15px; margin: 10px; border-radius: 10px\">\n",
    "<p>\n",
    "<b>Task 2.3:</b>   \n",
    "Read the cell below then execute it to see an example of a \"normal\" for loop that creates a dictionary that maps numbers to their squares.\n",
    "</p>\n",
    "</div>"
   ]
  },
  {
   "cell_type": "code",
   "execution_count": 14,
   "id": "b4be24ab",
   "metadata": {},
   "outputs": [
    {
     "name": "stdout",
     "output_type": "stream",
     "text": [
      "{0: 0, 1: 1, 2: 4, 3: 9, 4: 16, 5: 25, 6: 36, 7: 49, 8: 64, 9: 81}\n"
     ]
    }
   ],
   "source": [
    "squares_dict = {}\n",
    "for i in range(10):\n",
    "    squares_dict[i] = i ** 2\n",
    "\n",
    "print(squares_dict)"
   ]
  },
  {
   "cell_type": "markdown",
   "id": "7d95bdd5",
   "metadata": {},
   "source": [
    "<div style=\"background-color:#AABAB2; color: black; width:95%; vertical-align: middle; padding:15px; margin: 10px; border-radius: 10px\">\n",
    "<p>\n",
    "<b>Task 2.4:</b>   \n",
    "Read the cell below then execute it to see an example of a list comprehension that does the same thing. It's much more compact, right?!\n",
    "</p>\n",
    "</div>"
   ]
  },
  {
   "cell_type": "code",
   "execution_count": 15,
   "id": "1dbc3f22",
   "metadata": {},
   "outputs": [
    {
     "name": "stdout",
     "output_type": "stream",
     "text": [
      "{0: 0, 1: 1, 2: 4, 3: 9, 4: 16, 5: 25, 6: 36, 7: 49, 8: 64, 9: 81}\n"
     ]
    }
   ],
   "source": [
    "squares_dict = {i: i ** 2 for i in range(10)}\n",
    "\n",
    "print(squares_dict)"
   ]
  },
  {
   "cell_type": "markdown",
   "id": "a8687bf1",
   "metadata": {},
   "source": [
    "<div style=\"background-color:#AABAB2; color: black; width:95%; vertical-align: middle; padding:15px; margin: 10px; border-radius: 10px\">\n",
    "<p>\n",
    "<b>Task 2.5:</b>   \n",
    "Now try it yourself! Create a new list from from the one defined below that has values that are half that of the original.\n",
    "\n",
    "<em>Note the use of asserts to make sure your answer is correct!</em>\n",
    "</p>\n",
    "</div>"
   ]
  },
  {
   "cell_type": "code",
   "execution_count": 20,
   "id": "1ca75689",
   "metadata": {},
   "outputs": [
    {
     "name": "stdout",
     "output_type": "stream",
     "text": [
      "[0.5, 1.0, 1.5, 2.0, 2.5]\n"
     ]
    }
   ],
   "source": [
    "my_list = [1, 2, 3, 4, 5]\n",
    "new_list = [i * 0.5 for i in range(1,6)]\n",
    "print(new_list)\n",
    "assert new_list == [0.5, 1.0, 1.5, 2.0, 2.5], \"new_list values are not half of my_list!\""
   ]
  },
  {
   "cell_type": "markdown",
   "id": "3e8b83e6",
   "metadata": {},
   "source": [
    "### Summary\n",
    "\n",
    "There are several reasons why you should use list comprehension, hopefully you can recognize them from the examples and tasks above:\n",
    "\n",
    "- Readability: Comprehensions often turn multiple lines of code into a single, readable line, making the code easier to understand at a glance.\n",
    "- Efficiency: They are generally faster because they are optimized in the Python interpreter.\n",
    "- Simplicity: Reduces the need for loop control variables and indexing, making the code simpler.\n",
    "\n",
    "Sometimes the hardest thing to remember is the order and syntax. The following list comprehension uses obvious variable names to illustrate it (assuming you have an object with \"stuff\" in it, for example, `objects = [1, 2, 3]`); if you can remember this, you can remember list comprehensions!\n",
    "\n",
    "```\n",
    "[print(object) for object in objects]\n",
    "```"
   ]
  },
  {
   "cell_type": "markdown",
   "id": "16632cc2",
   "metadata": {},
   "source": [
    "## The `plt.bar()` Method\n",
    "\n",
    "At this point we have created many figures in MUDE assignments using a method from the Matplotlib plotting library: `plt.plot()`. This is our \"bread and butter\" plot because it is so easy to plot lines, data, scatter plots, etc. However, there are _many_ more types of plots available in Matplotlib. Today we will try `bar()`, which, as you can imagine, creates bar plots.\n",
    "\n",
    "First take a look at the documentation and see if you can figure out how it works."
   ]
  },
  {
   "cell_type": "markdown",
   "id": "1e9690a5",
   "metadata": {},
   "source": [
    "<div style=\"background-color:#AABAB2; color: black; width:95%; vertical-align: middle; padding:15px; margin: 10px; border-radius: 10px\">\n",
    "<p>\n",
    "<b>Task 3.1:</b>   \n",
    "Run the cell below and read the docstring for the method. Can you determine the minimum type of inputs required, and what they will do?\n",
    "</p>\n",
    "</div>"
   ]
  },
  {
   "cell_type": "code",
   "execution_count": 22,
   "id": "4ce7aa15",
   "metadata": {},
   "outputs": [
    {
     "name": "stderr",
     "output_type": "stream",
     "text": [
      "Matplotlib is building the font cache; this may take a moment.\n"
     ]
    },
    {
     "name": "stdout",
     "output_type": "stream",
     "text": [
      "Help on function bar in module matplotlib.pyplot:\n",
      "\n",
      "bar(x: 'float | ArrayLike', height: 'float | ArrayLike', width: 'float | ArrayLike' = 0.8, bottom: 'float | ArrayLike | None' = None, *, align: \"Literal['center', 'edge']\" = 'center', data=None, **kwargs) -> 'BarContainer'\n",
      "    Make a bar plot.\n",
      "\n",
      "    The bars are positioned at *x* with the given *align*\\ment. Their\n",
      "    dimensions are given by *height* and *width*. The vertical baseline\n",
      "    is *bottom* (default 0).\n",
      "\n",
      "    Many parameters can take either a single value applying to all bars\n",
      "    or a sequence of values, one for each bar.\n",
      "\n",
      "    Parameters\n",
      "    ----------\n",
      "    x : float or array-like\n",
      "        The x coordinates of the bars. See also *align* for the\n",
      "        alignment of the bars to the coordinates.\n",
      "\n",
      "    height : float or array-like\n",
      "        The height(s) of the bars.\n",
      "\n",
      "        Note that if *bottom* has units (e.g. datetime), *height* should be in\n",
      "        units that are a difference from the value of *bottom* (e.g. timedelta).\n",
      "\n",
      "    width : float or array-like, default: 0.8\n",
      "        The width(s) of the bars.\n",
      "\n",
      "        Note that if *x* has units (e.g. datetime), then *width* should be in\n",
      "        units that are a difference (e.g. timedelta) around the *x* values.\n",
      "\n",
      "    bottom : float or array-like, default: 0\n",
      "        The y coordinate(s) of the bottom side(s) of the bars.\n",
      "\n",
      "        Note that if *bottom* has units, then the y-axis will get a Locator and\n",
      "        Formatter appropriate for the units (e.g. dates, or categorical).\n",
      "\n",
      "    align : {'center', 'edge'}, default: 'center'\n",
      "        Alignment of the bars to the *x* coordinates:\n",
      "\n",
      "        - 'center': Center the base on the *x* positions.\n",
      "        - 'edge': Align the left edges of the bars with the *x* positions.\n",
      "\n",
      "        To align the bars on the right edge pass a negative *width* and\n",
      "        ``align='edge'``.\n",
      "\n",
      "    Returns\n",
      "    -------\n",
      "    `.BarContainer`\n",
      "        Container with all the bars and optionally errorbars.\n",
      "\n",
      "    Other Parameters\n",
      "    ----------------\n",
      "    color : :mpltype:`color` or list of :mpltype:`color`, optional\n",
      "        The colors of the bar faces.\n",
      "\n",
      "    edgecolor : :mpltype:`color` or list of :mpltype:`color`, optional\n",
      "        The colors of the bar edges.\n",
      "\n",
      "    linewidth : float or array-like, optional\n",
      "        Width of the bar edge(s). If 0, don't draw edges.\n",
      "\n",
      "    tick_label : str or list of str, optional\n",
      "        The tick labels of the bars.\n",
      "        Default: None (Use default numeric labels.)\n",
      "\n",
      "    label : str or list of str, optional\n",
      "        A single label is attached to the resulting `.BarContainer` as a\n",
      "        label for the whole dataset.\n",
      "        If a list is provided, it must be the same length as *x* and\n",
      "        labels the individual bars. Repeated labels are not de-duplicated\n",
      "        and will cause repeated label entries, so this is best used when\n",
      "        bars also differ in style (e.g., by passing a list to *color*.)\n",
      "\n",
      "    xerr, yerr : float or array-like of shape(N,) or shape(2, N), optional\n",
      "        If not *None*, add horizontal / vertical errorbars to the bar tips.\n",
      "        The values are +/- sizes relative to the data:\n",
      "\n",
      "        - scalar: symmetric +/- values for all bars\n",
      "        - shape(N,): symmetric +/- values for each bar\n",
      "        - shape(2, N): Separate - and + values for each bar. First row\n",
      "          contains the lower errors, the second row contains the upper\n",
      "          errors.\n",
      "        - *None*: No errorbar. (Default)\n",
      "\n",
      "        See :doc:`/gallery/statistics/errorbar_features` for an example on\n",
      "        the usage of *xerr* and *yerr*.\n",
      "\n",
      "    ecolor : :mpltype:`color` or list of :mpltype:`color`, default: 'black'\n",
      "        The line color of the errorbars.\n",
      "\n",
      "    capsize : float, default: :rc:`errorbar.capsize`\n",
      "       The length of the error bar caps in points.\n",
      "\n",
      "    error_kw : dict, optional\n",
      "        Dictionary of keyword arguments to be passed to the\n",
      "        `~.Axes.errorbar` method. Values of *ecolor* or *capsize* defined\n",
      "        here take precedence over the independent keyword arguments.\n",
      "\n",
      "    log : bool, default: False\n",
      "        If *True*, set the y-axis to be log scale.\n",
      "\n",
      "    data : indexable object, optional\n",
      "        If given, all parameters also accept a string ``s``, which is\n",
      "        interpreted as ``data[s]`` (unless this raises an exception).\n",
      "\n",
      "    **kwargs : `.Rectangle` properties\n",
      "\n",
      "    Properties:\n",
      "        agg_filter: a filter function, which takes a (m, n, 3) float array and a dpi value, and returns a (m, n, 3) array and two offsets from the bottom left corner of the image\n",
      "        alpha: scalar or None\n",
      "        angle: unknown\n",
      "        animated: bool\n",
      "        antialiased or aa: bool or None\n",
      "        bounds: (left, bottom, width, height)\n",
      "        capstyle: `.CapStyle` or {'butt', 'projecting', 'round'}\n",
      "        clip_box: `~matplotlib.transforms.BboxBase` or None\n",
      "        clip_on: bool\n",
      "        clip_path: Patch or (Path, Transform) or None\n",
      "        color: :mpltype:`color`\n",
      "        edgecolor or ec: :mpltype:`color` or None\n",
      "        facecolor or fc: :mpltype:`color` or None\n",
      "        figure: `~matplotlib.figure.Figure`\n",
      "        fill: bool\n",
      "        gid: str\n",
      "        hatch: {'/', '\\\\', '|', '-', '+', 'x', 'o', 'O', '.', '*'}\n",
      "        height: unknown\n",
      "        in_layout: bool\n",
      "        joinstyle: `.JoinStyle` or {'miter', 'round', 'bevel'}\n",
      "        label: object\n",
      "        linestyle or ls: {'-', '--', '-.', ':', '', (offset, on-off-seq), ...}\n",
      "        linewidth or lw: float or None\n",
      "        mouseover: bool\n",
      "        path_effects: list of `.AbstractPathEffect`\n",
      "        picker: None or bool or float or callable\n",
      "        rasterized: bool\n",
      "        sketch_params: (scale: float, length: float, randomness: float)\n",
      "        snap: bool or None\n",
      "        transform: `~matplotlib.transforms.Transform`\n",
      "        url: str\n",
      "        visible: bool\n",
      "        width: unknown\n",
      "        x: unknown\n",
      "        xy: (float, float)\n",
      "        y: unknown\n",
      "        zorder: float\n",
      "\n",
      "    See Also\n",
      "    --------\n",
      "    barh : Plot a horizontal bar plot.\n",
      "\n",
      "    Notes\n",
      "    -----\n",
      "\n",
      "    .. note::\n",
      "\n",
      "        This is the :ref:`pyplot wrapper <pyplot_interface>` for `.axes.Axes.bar`.\n",
      "\n",
      "    Stacked bars can be achieved by passing individual *bottom* values per\n",
      "    bar. See :doc:`/gallery/lines_bars_and_markers/bar_stacked`.\n",
      "\n"
     ]
    }
   ],
   "source": [
    "import numpy as np\n",
    "import matplotlib.pyplot as plt\n",
    "help(plt.bar)"
   ]
  },
  {
   "cell_type": "markdown",
   "id": "d0c48669",
   "metadata": {},
   "source": [
    "<div style=\"background-color:#AABAB2; color: black; width:95%; vertical-align: middle; padding:15px; margin: 10px; border-radius: 10px\">\n",
    "<p>\n",
    "<b>Task 3.2:</b>   \n",
    "That's right, it plots a bar chart where the first argument is the x coordinate of the bar and the second argument is the height. Fill in the empty lists below to create a bar plot with any values you like.\n",
    "</p>\n",
    "</div>"
   ]
  },
  {
   "cell_type": "code",
   "execution_count": 32,
   "id": "512718a3",
   "metadata": {},
   "outputs": [
    {
     "data": {
      "text/plain": [
       "<BarContainer object of 5 artists>"
      ]
     },
     "execution_count": 32,
     "metadata": {},
     "output_type": "execute_result"
    },
    {
     "data": {
      "image/png": "[encoded data removed]",
      "text/plain": [
       "<Figure size 640x480 with 1 Axes>"
      ]
     },
     "metadata": {},
     "output_type": "display_data"
    }
   ],
   "source": [
    "x = [ 2, 3, 4, 5, 6]\n",
    "y= [12, 18, 27, 22, 16] \n",
    "plt.bar(x,y)"
   ]
  },
  {
   "cell_type": "markdown",
   "id": "82b94893",
   "metadata": {},
   "source": [
    "Pretty easy, right? Let's try to do one more thing with this - suppose we don't like that the _center_ of the bar is over the value we enter. It's easy to change this using a _keyword argument_; these are the input arguments to the function that have the equals sign (e.g., `function(keyword_arg=<xxx>)`). These are optional arguments; they are generally not needed, but can be specified, along with a value, to change the default behavior of the function. For our purposes this week, we will want to change _two_ keyword arguments:\n",
    "\n",
    "1. `width`\n",
    "2. `align`\n",
    "\n",
    "Fortunately the `help` function printed out the docstring for `bar()`, which contains all the information you need to figure out what these keyword arguments do and how to use them."
   ]
  },
  {
   "cell_type": "markdown",
   "id": "501c9c7b",
   "metadata": {},
   "source": [
    "<div style=\"background-color:#AABAB2; color: black; width:95%; vertical-align: middle; padding:15px; margin: 10px; border-radius: 10px\">\n",
    "<p>\n",
    "<b>Task 3.3:</b>   \n",
    "Set the keyword arguments below to make the bars fill up the entire space between each bar (no white space) and to force the <b>left</b> side of the bar to align with the value specified.\n",
    "\n",
    "Note the addition of keyword argument <code>edgecolor</code> to make it easier to see the edges of the bar. \n",
    "</p>\n",
    "</div>"
   ]
  },
  {
   "cell_type": "code",
   "execution_count": 35,
   "id": "6b1fd9c1",
   "metadata": {},
   "outputs": [
    {
     "data": {
      "text/plain": [
       "<BarContainer object of 4 artists>"
      ]
     },
     "execution_count": 35,
     "metadata": {},
     "output_type": "execute_result"
    },
    {
     "data": {
      "image/png": "[encoded data removed]",
      "text/plain": [
       "<Figure size 640x480 with 1 Axes>"
      ]
     },
     "metadata": {},
     "output_type": "display_data"
    }
   ],
   "source": [
    "plt.bar([1, 2, 3, 4],[0.2, 0.5, 0.1, 0.6],\n",
    "        width= 1.0,\n",
    "        align= 'edge',\n",
    "        edgecolor='black')"
   ]
  },
  {
   "cell_type": "markdown",
   "id": "a3cc843c",
   "metadata": {},
   "source": [
    "<div style=\"background-color:#AABAB2; color: black; width:95%; vertical-align: middle; padding:15px; margin: 10px; border-radius: 10px\">\n",
    "<p>\n",
    "<b>Task 3.4:</b>   \n",
    "Now set the keyword arguments below to make the bars fill up the entire space between each bar (no white space) and to force the <b>right</b> side of the bar to align with the value specified.\n",
    "</p>\n",
    "</div>"
   ]
  },
  {
   "cell_type": "code",
   "execution_count": 40,
   "id": "4958e71a",
   "metadata": {},
   "outputs": [
    {
     "data": {
      "text/plain": [
       "<BarContainer object of 4 artists>"
      ]
     },
     "execution_count": 40,
     "metadata": {},
     "output_type": "execute_result"
    },
    {
     "data": {
      "image/png": "[encoded data removed]",
      "text/plain": [
       "<Figure size 640x480 with 1 Axes>"
      ]
     },
     "metadata": {},
     "output_type": "display_data"
    }
   ],
   "source": [
    "plt.bar([1, 2, 3, 4],[0.2, 0.5, 0.1, 0.6],\n",
    "        width=-1.0,\n",
    "        align='edge',\n",
    "        edgecolor='black')"
   ]
  },
  {
   "cell_type": "markdown",
   "id": "58811f81",
   "metadata": {},
   "source": [
    "## Topic 4: Exporting a Figure and Including it in a Markdown Notebook\n",
    "\n",
    "Now that we can create a wider variety of figures, we should be able to include them in our Reports for communicating the results of our analyses. Here we show you a very simple way to save a figure generated in your notebook, then use Markdown to visualize the figure. Once a figure is made it is easy, use this syntax:\n",
    "\n",
    "```\n",
    "![<an arbitrary label for my figure>](<relative path to my figure>)\n",
    "```\n",
    "\n",
    "The label is simply a name that will appear in case the figure fails to load. It can also be read by a website-reading app (for example, then a blind person could understand what the content of the figure may be). Here is an example for what this could look like in practice:\n",
    "\n",
    "```\n",
    "![bar chart of dummy data](./my_bar_chart.svg)\n",
    "```\n",
    "\n",
    "This is very easy, so once again we lead by example! However, first a couple notes about filepaths.\n",
    "\n",
    "### File Paths\n",
    "\n",
    "A _file path_ is like an address to a file. There are generally two types, _absolute_ and _relative._ Most of our activities focus on working in a  _working directory,_ so we will focus almost entirely on relative paths. The general format is like this:\n",
    "\n",
    "```\n",
    "./subdirectory_1/subdir_2/filename.ext\n",
    "```\n",
    "\n",
    "where:\n",
    "- the dot `.` indicates one should use the current directory of the file (or the CLI) as the current location (the `.` is like saying \" start _here_\")\n",
    "- forward slashes `/` separate subdirectories\n",
    "- the last two words are the file name and extension. For example, common image extensions are `.jpg`, `.png` or `.svg`\n",
    "- in this example, the image file is stored inside a folder called `subdir_2` which is inside a folder called `subdirectory_1` which is in our working directory.\n",
    "\n",
    "As a general rule, **always use forward slashes whenever possible.** Although backward slashes are the default and must be used at times on Windows, they don't work on Mac or Linux systems. This causes problems when sharing code with others running these systems (or when we check your assignments on GitHub!!!). Remember that we try to do things in a way that allows easy collaboration: using approaches that are agnostic of the operating system (i.e., works on all platforms). This is hard to guarantee in practice, but consistently using forward slashes will get us close!\n",
    "\n",
    "### Try it out yourself\n",
    "\n",
    "We will try this out, but first we need to create a figure! The code below is a quick way of saving a Matplotlib figure as an svg file."
   ]
  },
  {
   "cell_type": "markdown",
   "id": "8ca99b68",
   "metadata": {},
   "source": [
    "<div style=\"background-color:#AABAB2; color: black; width:95%; vertical-align: middle; padding:15px; margin: 10px; border-radius: 10px\">\n",
    "<p>\n",
    "<b>Task 4.1:</b>   \n",
    "Run the cell below to create the svg file. Confirm that it is created successfully by examining your working directory.\n",
    "</p>\n",
    "</div>"
   ]
  },
  {
   "cell_type": "code",
   "execution_count": 41,
   "id": "3c82a997",
   "metadata": {},
   "outputs": [
    {
     "data": {
      "image/png": "[encoded data removed]",
      "text/plain": [
       "<Figure size 800x600 with 1 Axes>"
      ]
     },
     "metadata": {},
     "output_type": "display_data"
    }
   ],
   "source": [
    "fig, ax = plt.subplots(1,1,figsize = (8,6))\n",
    "plt.bar([1, 2, 3, 4],[0.2, 0.5, 0.1, 0.6])\n",
    "fig.savefig('my_figure.svg')"
   ]
  },
  {
   "cell_type": "markdown",
   "id": "3b62b94f",
   "metadata": {},
   "source": [
    "<div style=\"background-color:#AABAB2; color: black; width:95%; vertical-align: middle; padding:15px; margin: 10px; border-radius: 10px\">\n",
    "<p>\n",
    "<b>Task 4.2:</b>   \n",
    "Now that the image is created, use the Markdown cell below to display it in this notebook.\n",
    "</p>\n",
    "</div>"
   ]
  },
  {
   "cell_type": "markdown",
   "id": "2c71b287",
   "metadata": {},
   "source": [
    "Use this Markdown cell to try visualizing the figure we just saved using Markdown!\n",
    "\n",
    "![a figure](my_figure.svg)"
   ]
  },
  {
   "cell_type": "code",
   "execution_count": null,
   "id": "41d2d26e",
   "metadata": {},
   "outputs": [],
   "source": [
    "!"
   ]
  },
  {
   "cell_type": "markdown",
   "id": "26492dd2",
   "metadata": {},
   "source": [
    "<div style=\"background-color:#AABAB2; color: black; width:95%; vertical-align: middle; padding:15px; margin: 10px; border-radius: 10px\">\n",
    "<p>\n",
    "<b>Task 4.3:</b>   \n",
    "Test your understanding of relative file paths by moving the csv file to a subdirectory with name <code>figures</code> and getting the following Markdown cell to display the figure.\n",
    "\n",
    "<pre>\n",
    "<code>\n",
    "![a figure](./figures/my_figure.svg)\n",
    "</code>\n",
    "</pre>\n",
    "\n",
    "</p>\n",
    "</div>"
   ]
  },
  {
   "cell_type": "markdown",
   "id": "b23f5743",
   "metadata": {},
   "source": [
    "** MAKE SURE A FIGURE APPEARS HERE BY MOVING THE FILE**\n",
    "\n",
    "![a figure](./figures/my_figure.svg)"
   ]
  },
  {
   "cell_type": "markdown",
   "id": "32e2840d",
   "metadata": {},
   "source": [
    "<div style=\"background-color:#AABAB2; color: black; width:95%; vertical-align: middle; padding:15px; margin: 10px; border-radius: 10px\">\n",
    "<p>\n",
    "<b>Task 4.4:</b>   \n",
    "Now add the figure to an actual markdown file with the name <code>myfigure.md</code> (we will test this in in our assignment check). Then visualize the file to confirm you did it properly (remember to use <code>CTRL+SHIFT+V</code> in VSC, the <a href=\"https://tudelft-mude.github.io/workshop-iitm-book/main/programming/week_1_1/install/ide/vsc/extensions.html#markdown-all-in-one\" target=\"_blank\">Markdown All-in-one extension</a>).\n",
    "\n",
    "</p>\n",
    "</div>"
   ]
  },
  {
   "cell_type": "markdown",
   "id": "d191fa12",
   "metadata": {},
   "source": [
    "**End of notebook.**\n",
    "<h2 style=\"height: 60px\">\n",
    "</h2>\n",
    "<h3 style=\"position: absolute; display: flex; flex-grow: 0; flex-shrink: 0; flex-direction: row-reverse; bottom: 60px; right: 50px; margin: 0; border: 0\">\n",
    "    <style>\n",
    "        .markdown {width:100%; position: relative}\n",
    "        article { position: relative }\n",
    "    </style>\n",
    "    <a rel=\"license\" href=\"http://creativecommons.org/licenses/by/4.0/\">\n",
    "      <img alt=\"Creative Commons License\" style=\"border-width:; width:88px; height:auto; padding-top:10px\" src=\"https://i.creativecommons.org/l/by/4.0/88x31.png\" />\n",
    "    </a>\n",
    "    <a rel=\"TU Delft\" href=\"https://www.tudelft.nl/en/ceg\">\n",
    "      <img alt=\"TU Delft\" style=\"border-width:0; width:100px; height:auto; padding-bottom:0px\" src=\"https://gitlab.tudelft.nl/mude/public/-/raw/main/tu-logo/TU_P1_full-color.png\" />\n",
    "    </a>\n",
    "    <a rel=\"MUDE\" href=\"http://mude.citg.tudelft.nl/\">\n",
    "      <img alt=\"MUDE\" style=\"border-width:0; width:100px; height:auto; padding-bottom:0px\" src=\"https://gitlab.tudelft.nl/mude/public/-/raw/main/mude-logo/MUDE_Logo-small.png\" />\n",
    "    </a>\n",
    "    \n",
    "</h3>\n",
    "<span style=\"font-size: 75%\">\n",
    "&copy; Copyright 2024 <a rel=\"MUDE\" href=\"http://mude.citg.tudelft.nl/\">MUDE</a> TU Delft. This work is licensed under a <a rel=\"license\" href=\"http://creativecommons.org/licenses/by/4.0/\">CC BY 4.0 License</a>."
   ]
  }
 ],
 "metadata": {
  "kernelspec": {
   "display_name": "base",
   "language": "python",
   "name": "python3"
  },
  "language_info": {
   "codemirror_mode": {
    "name": "ipython",
    "version": 3
   },
   "file_extension": ".py",
   "mimetype": "text/x-python",
   "name": "python",
   "nbconvert_exporter": "python",
   "pygments_lexer": "ipython3",
   "version": "3.12.7"
  },
  "widgets": {
   "application/vnd.jupyter.widget-state+json": {
    "state": {},
    "version_major": 2,
    "version_minor": 0
   }
  }
 },
 "nbformat": 4,
 "nbformat_minor": 5
}
